{
 "cells": [
  {
   "cell_type": "markdown",
   "id": "sufficient-trail",
   "metadata": {},
   "source": [
    "# Import packages"
   ]
  },
  {
   "cell_type": "code",
   "execution_count": 1,
   "id": "increased-mortgage",
   "metadata": {},
   "outputs": [],
   "source": [
    "import requests\n",
    "import pandas as pd\n",
    "\n",
    "import numpy as np\n",
    "import pandas as pd\n",
    "import matplotlib.pyplot as plt\n",
    "%matplotlib inline\n",
    "import seaborn as sns"
   ]
  },
  {
   "cell_type": "markdown",
   "id": "bizarre-north",
   "metadata": {},
   "source": [
    "# Data generation"
   ]
  },
  {
   "cell_type": "code",
   "execution_count": 4,
   "id": "soviet-survivor",
   "metadata": {},
   "outputs": [],
   "source": [
    "# As Random User Generator allows us to fetch up to 5,000 generated users \n",
    "#     in one request using the results parameter, we will use Random User Generator 2 times,\n",
    "#     5000 new users in every time"
   ]
  },
  {
   "cell_type": "code",
   "execution_count": 5,
   "id": "experimental-transport",
   "metadata": {},
   "outputs": [],
   "source": [
    "r_1 = requests.get('https://randomuser.me/api/?results=5000')"
   ]
  },
  {
   "cell_type": "code",
   "execution_count": 6,
   "id": "informal-carolina",
   "metadata": {},
   "outputs": [],
   "source": [
    "r_2 = requests.get('https://randomuser.me/api/?results=5000')"
   ]
  },
  {
   "cell_type": "code",
   "execution_count": 7,
   "id": "organized-attempt",
   "metadata": {},
   "outputs": [
    {
     "data": {
      "text/plain": [
       "200"
      ]
     },
     "execution_count": 7,
     "metadata": {},
     "output_type": "execute_result"
    }
   ],
   "source": [
    "r_1.status_code"
   ]
  },
  {
   "cell_type": "code",
   "execution_count": 8,
   "id": "bizarre-departure",
   "metadata": {},
   "outputs": [],
   "source": [
    "data_1 = r_1.json()\n",
    "data_2 = r_2.json()"
   ]
  },
  {
   "cell_type": "code",
   "execution_count": 9,
   "id": "dedicated-starter",
   "metadata": {},
   "outputs": [
    {
     "name": "stdout",
     "output_type": "stream",
     "text": [
      "type - <class 'dict'>\n",
      "len - 2\n"
     ]
    }
   ],
   "source": [
    "print('type -', type(data_1))\n",
    "print('len -', len(data_1))"
   ]
  },
  {
   "cell_type": "code",
   "execution_count": 10,
   "id": "civil-invention",
   "metadata": {},
   "outputs": [
    {
     "data": {
      "text/plain": [
       "dict_keys(['results', 'info'])"
      ]
     },
     "execution_count": 10,
     "metadata": {},
     "output_type": "execute_result"
    }
   ],
   "source": [
    "data_1.keys()"
   ]
  },
  {
   "cell_type": "code",
   "execution_count": 11,
   "id": "champion-lawrence",
   "metadata": {},
   "outputs": [
    {
     "name": "stdout",
     "output_type": "stream",
     "text": [
      "5000\n",
      "4\n"
     ]
    }
   ],
   "source": [
    "print(len(data_1['results']))\n",
    "print(len(data_1['info']))"
   ]
  },
  {
   "cell_type": "code",
   "execution_count": 12,
   "id": "improved-custody",
   "metadata": {},
   "outputs": [
    {
     "data": {
      "text/plain": [
       "{'seed': 'd3c1ed721b5d5e29', 'results': 5000, 'page': 1, 'version': '1.3'}"
      ]
     },
     "execution_count": 12,
     "metadata": {},
     "output_type": "execute_result"
    }
   ],
   "source": [
    "data_1['info']"
   ]
  },
  {
   "cell_type": "code",
   "execution_count": 13,
   "id": "executed-basin",
   "metadata": {},
   "outputs": [
    {
     "data": {
      "text/plain": [
       "{'gender': 'female',\n",
       " 'name': {'title': 'Mrs', 'first': 'Lola', 'last': 'Mcdonalid'},\n",
       " 'location': {'street': {'number': 78, 'name': 'Queensway'},\n",
       "  'city': 'Westminster',\n",
       "  'state': 'Cleveland',\n",
       "  'country': 'United Kingdom',\n",
       "  'postcode': 'P4 0FG',\n",
       "  'coordinates': {'latitude': '14.9900', 'longitude': '5.2992'},\n",
       "  'timezone': {'offset': '+5:30',\n",
       "   'description': 'Bombay, Calcutta, Madras, New Delhi'}},\n",
       " 'email': 'lola.mcdonalid@example.com',\n",
       " 'login': {'uuid': 'a97b0ae1-0fa8-42f8-a61b-7c3e48376f3b',\n",
       "  'username': 'sadladybug790',\n",
       "  'password': 'alive',\n",
       "  'salt': '8QHj8I4y',\n",
       "  'md5': 'bef41a503fbe11554b4b1f13f4416312',\n",
       "  'sha1': 'ec3cd9c317c4eb1b5025297243a20c5438eac4f9',\n",
       "  'sha256': '578b85f3531dfc764b7c057c084f8283c4c75562b436c0ddeca821a7c9e43abd'},\n",
       " 'dob': {'date': '1955-06-23T17:58:18.593Z', 'age': 66},\n",
       " 'registered': {'date': '2017-11-15T04:25:07.553Z', 'age': 4},\n",
       " 'phone': '013873 08894',\n",
       " 'cell': '0769-456-124',\n",
       " 'id': {'name': 'NINO', 'value': 'MR 89 89 27 O'},\n",
       " 'picture': {'large': 'https://randomuser.me/api/portraits/women/28.jpg',\n",
       "  'medium': 'https://randomuser.me/api/portraits/med/women/28.jpg',\n",
       "  'thumbnail': 'https://randomuser.me/api/portraits/thumb/women/28.jpg'},\n",
       " 'nat': 'GB'}"
      ]
     },
     "execution_count": 13,
     "metadata": {},
     "output_type": "execute_result"
    }
   ],
   "source": [
    "data_1['results'][0]"
   ]
  },
  {
   "cell_type": "code",
   "execution_count": 14,
   "id": "excessive-repair",
   "metadata": {},
   "outputs": [
    {
     "data": {
      "text/plain": [
       "list"
      ]
     },
     "execution_count": 14,
     "metadata": {},
     "output_type": "execute_result"
    }
   ],
   "source": [
    "type(data_1['results'])"
   ]
  },
  {
   "cell_type": "code",
   "execution_count": 15,
   "id": "beautiful-simple",
   "metadata": {},
   "outputs": [
    {
     "data": {
      "text/plain": [
       "10000"
      ]
     },
     "execution_count": 15,
     "metadata": {},
     "output_type": "execute_result"
    }
   ],
   "source": [
    "data = data_1['results'] + data_2['results']\n",
    "len(data)"
   ]
  },
  {
   "cell_type": "markdown",
   "id": "affiliated-planet",
   "metadata": {},
   "source": [
    "# Data preprocessing"
   ]
  },
  {
   "cell_type": "code",
   "execution_count": 16,
   "id": "first-journalism",
   "metadata": {},
   "outputs": [
    {
     "data": {
      "text/plain": [
       "10000"
      ]
     },
     "execution_count": 16,
     "metadata": {},
     "output_type": "execute_result"
    }
   ],
   "source": [
    "# Let's remove all duplicates if they exist\n",
    "res = []\n",
    "len([res.append(x) for x in data if x not in res])"
   ]
  },
  {
   "cell_type": "code",
   "execution_count": 17,
   "id": "partial-joyce",
   "metadata": {},
   "outputs": [],
   "source": [
    "# ⬆ there were not duplicates"
   ]
  },
  {
   "cell_type": "code",
   "execution_count": 18,
   "id": "daily-athens",
   "metadata": {},
   "outputs": [
    {
     "data": {
      "text/plain": [
       "{'gender': 'female',\n",
       " 'name': {'title': 'Mrs', 'first': 'Lola', 'last': 'Mcdonalid'},\n",
       " 'location': {'street': {'number': 78, 'name': 'Queensway'},\n",
       "  'city': 'Westminster',\n",
       "  'state': 'Cleveland',\n",
       "  'country': 'United Kingdom',\n",
       "  'postcode': 'P4 0FG',\n",
       "  'coordinates': {'latitude': '14.9900', 'longitude': '5.2992'},\n",
       "  'timezone': {'offset': '+5:30',\n",
       "   'description': 'Bombay, Calcutta, Madras, New Delhi'}},\n",
       " 'email': 'lola.mcdonalid@example.com',\n",
       " 'login': {'uuid': 'a97b0ae1-0fa8-42f8-a61b-7c3e48376f3b',\n",
       "  'username': 'sadladybug790',\n",
       "  'password': 'alive',\n",
       "  'salt': '8QHj8I4y',\n",
       "  'md5': 'bef41a503fbe11554b4b1f13f4416312',\n",
       "  'sha1': 'ec3cd9c317c4eb1b5025297243a20c5438eac4f9',\n",
       "  'sha256': '578b85f3531dfc764b7c057c084f8283c4c75562b436c0ddeca821a7c9e43abd'},\n",
       " 'dob': {'date': '1955-06-23T17:58:18.593Z', 'age': 66},\n",
       " 'registered': {'date': '2017-11-15T04:25:07.553Z', 'age': 4},\n",
       " 'phone': '013873 08894',\n",
       " 'cell': '0769-456-124',\n",
       " 'id': {'name': 'NINO', 'value': 'MR 89 89 27 O'},\n",
       " 'picture': {'large': 'https://randomuser.me/api/portraits/women/28.jpg',\n",
       "  'medium': 'https://randomuser.me/api/portraits/med/women/28.jpg',\n",
       "  'thumbnail': 'https://randomuser.me/api/portraits/thumb/women/28.jpg'},\n",
       " 'nat': 'GB'}"
      ]
     },
     "execution_count": 18,
     "metadata": {},
     "output_type": "execute_result"
    }
   ],
   "source": [
    "data[0]"
   ]
  },
  {
   "cell_type": "code",
   "execution_count": 19,
   "id": "special-darkness",
   "metadata": {},
   "outputs": [],
   "source": [
    "# let's create columns of our dataframe. We don't use all the information from 'data' list.\n",
    "# For example, coordinates are not valuable information for future EDA.\n",
    "\n",
    "gender = []\n",
    "title = []\n",
    "first_name = []\n",
    "last_name = []\n",
    "street_number = []\n",
    "street_name = []\n",
    "city = []\n",
    "state = []\n",
    "country = []\n",
    "postcode = []\n",
    "email = []\n",
    "username = []\n",
    "password = []\n",
    "age = []\n",
    "phone = []\n",
    "cell = []\n",
    "nat = []      # nat for nationality "
   ]
  },
  {
   "cell_type": "code",
   "execution_count": 20,
   "id": "guilty-techno",
   "metadata": {},
   "outputs": [],
   "source": [
    "for i in data:\n",
    "    gender.append(i['gender'])\n",
    "    title.append(i['name']['title'])\n",
    "    first_name.append(i['name']['first'])\n",
    "    last_name.append(i['name']['last'])\n",
    "    street_number.append(i['location']['street']['number'])\n",
    "    street_name.append(i['location']['street']['name'])\n",
    "    city.append(i['location']['city'])\n",
    "    state.append(i['location']['state'])\n",
    "    country.append(i['location']['country'])\n",
    "    postcode.append(i['location']['postcode'])\n",
    "    email.append(i['email'])\n",
    "    username.append(i['login']['username'])\n",
    "    password.append(i['login']['password'])\n",
    "    age.append(i['dob']['age'])\n",
    "    phone.append(i['phone'])\n",
    "    cell.append(i['cell'])\n",
    "    nat.append(i['nat'])"
   ]
  },
  {
   "cell_type": "code",
   "execution_count": 21,
   "id": "banned-tackle",
   "metadata": {},
   "outputs": [],
   "source": [
    "df = pd.DataFrame(list(zip(first_name,last_name,gender,title,age,nat,country,state,city,street_name,\n",
    "                           street_number,postcode,phone,cell,email,username,password)),\n",
    "                  columns = ['first_name','last_name','gender','title','age','nat','country','state','city',\n",
    "                             'street_name','street_number','postcode','phone','cell','email','username','password'])"
   ]
  },
  {
   "cell_type": "code",
   "execution_count": 22,
   "id": "desirable-boating",
   "metadata": {},
   "outputs": [
    {
     "data": {
      "text/html": [
       "<div>\n",
       "<style scoped>\n",
       "    .dataframe tbody tr th:only-of-type {\n",
       "        vertical-align: middle;\n",
       "    }\n",
       "\n",
       "    .dataframe tbody tr th {\n",
       "        vertical-align: top;\n",
       "    }\n",
       "\n",
       "    .dataframe thead th {\n",
       "        text-align: right;\n",
       "    }\n",
       "</style>\n",
       "<table border=\"1\" class=\"dataframe\">\n",
       "  <thead>\n",
       "    <tr style=\"text-align: right;\">\n",
       "      <th></th>\n",
       "      <th>first_name</th>\n",
       "      <th>last_name</th>\n",
       "      <th>gender</th>\n",
       "      <th>title</th>\n",
       "      <th>age</th>\n",
       "      <th>nat</th>\n",
       "      <th>country</th>\n",
       "      <th>state</th>\n",
       "      <th>city</th>\n",
       "      <th>street_name</th>\n",
       "      <th>street_number</th>\n",
       "      <th>postcode</th>\n",
       "      <th>phone</th>\n",
       "      <th>cell</th>\n",
       "      <th>email</th>\n",
       "      <th>username</th>\n",
       "      <th>password</th>\n",
       "    </tr>\n",
       "  </thead>\n",
       "  <tbody>\n",
       "    <tr>\n",
       "      <th>0</th>\n",
       "      <td>Lola</td>\n",
       "      <td>Mcdonalid</td>\n",
       "      <td>female</td>\n",
       "      <td>Mrs</td>\n",
       "      <td>66</td>\n",
       "      <td>GB</td>\n",
       "      <td>United Kingdom</td>\n",
       "      <td>Cleveland</td>\n",
       "      <td>Westminster</td>\n",
       "      <td>Queensway</td>\n",
       "      <td>78</td>\n",
       "      <td>P4 0FG</td>\n",
       "      <td>013873 08894</td>\n",
       "      <td>0769-456-124</td>\n",
       "      <td>lola.mcdonalid@example.com</td>\n",
       "      <td>sadladybug790</td>\n",
       "      <td>alive</td>\n",
       "    </tr>\n",
       "    <tr>\n",
       "      <th>1</th>\n",
       "      <td>Estelle</td>\n",
       "      <td>Martinez</td>\n",
       "      <td>female</td>\n",
       "      <td>Miss</td>\n",
       "      <td>39</td>\n",
       "      <td>FR</td>\n",
       "      <td>France</td>\n",
       "      <td>Alpes-Maritimes</td>\n",
       "      <td>Nancy</td>\n",
       "      <td>Rue de Cuire</td>\n",
       "      <td>5725</td>\n",
       "      <td>82167</td>\n",
       "      <td>03-04-20-78-34</td>\n",
       "      <td>06-89-29-24-70</td>\n",
       "      <td>estelle.martinez@example.com</td>\n",
       "      <td>smallfish105</td>\n",
       "      <td>channel</td>\n",
       "    </tr>\n",
       "    <tr>\n",
       "      <th>2</th>\n",
       "      <td>Paul</td>\n",
       "      <td>Olivier</td>\n",
       "      <td>male</td>\n",
       "      <td>Mr</td>\n",
       "      <td>26</td>\n",
       "      <td>FR</td>\n",
       "      <td>France</td>\n",
       "      <td>Dordogne</td>\n",
       "      <td>Dijon</td>\n",
       "      <td>Place de L'Abbé-Georges-Hénocque</td>\n",
       "      <td>8586</td>\n",
       "      <td>54038</td>\n",
       "      <td>01-68-38-67-56</td>\n",
       "      <td>06-63-49-01-60</td>\n",
       "      <td>paul.olivier@example.com</td>\n",
       "      <td>crazyelephant615</td>\n",
       "      <td>dodgers</td>\n",
       "    </tr>\n",
       "    <tr>\n",
       "      <th>3</th>\n",
       "      <td>Vildan</td>\n",
       "      <td>Elçiboğa</td>\n",
       "      <td>female</td>\n",
       "      <td>Miss</td>\n",
       "      <td>66</td>\n",
       "      <td>TR</td>\n",
       "      <td>Turkey</td>\n",
       "      <td>Kocaeli</td>\n",
       "      <td>Şırnak</td>\n",
       "      <td>Abanoz Sk</td>\n",
       "      <td>7964</td>\n",
       "      <td>48532</td>\n",
       "      <td>(264)-871-6729</td>\n",
       "      <td>(904)-287-1353</td>\n",
       "      <td>vildan.elciboga@example.com</td>\n",
       "      <td>beautifulleopard232</td>\n",
       "      <td>frodo1</td>\n",
       "    </tr>\n",
       "    <tr>\n",
       "      <th>4</th>\n",
       "      <td>Asta</td>\n",
       "      <td>Rasmussen</td>\n",
       "      <td>female</td>\n",
       "      <td>Ms</td>\n",
       "      <td>23</td>\n",
       "      <td>DK</td>\n",
       "      <td>Denmark</td>\n",
       "      <td>Sjælland</td>\n",
       "      <td>Lundby</td>\n",
       "      <td>Skovbovej</td>\n",
       "      <td>7501</td>\n",
       "      <td>67571</td>\n",
       "      <td>33509617</td>\n",
       "      <td>71270627</td>\n",
       "      <td>asta.rasmussen@example.com</td>\n",
       "      <td>crazyelephant792</td>\n",
       "      <td>poopy</td>\n",
       "    </tr>\n",
       "    <tr>\n",
       "      <th>...</th>\n",
       "      <td>...</td>\n",
       "      <td>...</td>\n",
       "      <td>...</td>\n",
       "      <td>...</td>\n",
       "      <td>...</td>\n",
       "      <td>...</td>\n",
       "      <td>...</td>\n",
       "      <td>...</td>\n",
       "      <td>...</td>\n",
       "      <td>...</td>\n",
       "      <td>...</td>\n",
       "      <td>...</td>\n",
       "      <td>...</td>\n",
       "      <td>...</td>\n",
       "      <td>...</td>\n",
       "      <td>...</td>\n",
       "      <td>...</td>\n",
       "    </tr>\n",
       "    <tr>\n",
       "      <th>9995</th>\n",
       "      <td>Sophie</td>\n",
       "      <td>Claire</td>\n",
       "      <td>female</td>\n",
       "      <td>Miss</td>\n",
       "      <td>57</td>\n",
       "      <td>CA</td>\n",
       "      <td>Canada</td>\n",
       "      <td>Newfoundland and Labrador</td>\n",
       "      <td>Westport</td>\n",
       "      <td>Brock Rd</td>\n",
       "      <td>3865</td>\n",
       "      <td>Y3C 7I8</td>\n",
       "      <td>346-183-3407</td>\n",
       "      <td>758-986-2443</td>\n",
       "      <td>sophie.claire@example.com</td>\n",
       "      <td>ticklishpanda658</td>\n",
       "      <td>23skidoo</td>\n",
       "    </tr>\n",
       "    <tr>\n",
       "      <th>9996</th>\n",
       "      <td>Liron</td>\n",
       "      <td>Jobse</td>\n",
       "      <td>male</td>\n",
       "      <td>Mr</td>\n",
       "      <td>24</td>\n",
       "      <td>NL</td>\n",
       "      <td>Netherlands</td>\n",
       "      <td>Utrecht</td>\n",
       "      <td>West-Graftdijk</td>\n",
       "      <td>Kruisweg</td>\n",
       "      <td>8929</td>\n",
       "      <td>34307</td>\n",
       "      <td>(336)-478-5432</td>\n",
       "      <td>(069)-383-7995</td>\n",
       "      <td>liron.jobse@example.com</td>\n",
       "      <td>purplemeercat997</td>\n",
       "      <td>solo</td>\n",
       "    </tr>\n",
       "    <tr>\n",
       "      <th>9997</th>\n",
       "      <td>Troy</td>\n",
       "      <td>Long</td>\n",
       "      <td>male</td>\n",
       "      <td>Mr</td>\n",
       "      <td>44</td>\n",
       "      <td>AU</td>\n",
       "      <td>Australia</td>\n",
       "      <td>South Australia</td>\n",
       "      <td>Cairns</td>\n",
       "      <td>Stevens Creek Blvd</td>\n",
       "      <td>6924</td>\n",
       "      <td>7367</td>\n",
       "      <td>07-8399-5488</td>\n",
       "      <td>0490-672-402</td>\n",
       "      <td>troy.long@example.com</td>\n",
       "      <td>greenelephant236</td>\n",
       "      <td>skibum</td>\n",
       "    </tr>\n",
       "    <tr>\n",
       "      <th>9998</th>\n",
       "      <td>Benjamin</td>\n",
       "      <td>Boyd</td>\n",
       "      <td>male</td>\n",
       "      <td>Mr</td>\n",
       "      <td>50</td>\n",
       "      <td>AU</td>\n",
       "      <td>Australia</td>\n",
       "      <td>New South Wales</td>\n",
       "      <td>Geraldton</td>\n",
       "      <td>Daisy Dr</td>\n",
       "      <td>4484</td>\n",
       "      <td>6266</td>\n",
       "      <td>08-8808-2132</td>\n",
       "      <td>0486-279-402</td>\n",
       "      <td>benjamin.boyd@example.com</td>\n",
       "      <td>crazypanda320</td>\n",
       "      <td>lopez</td>\n",
       "    </tr>\n",
       "    <tr>\n",
       "      <th>9999</th>\n",
       "      <td>Téo</td>\n",
       "      <td>Noel</td>\n",
       "      <td>male</td>\n",
       "      <td>Mr</td>\n",
       "      <td>29</td>\n",
       "      <td>FR</td>\n",
       "      <td>France</td>\n",
       "      <td>La Réunion</td>\n",
       "      <td>Angers</td>\n",
       "      <td>Rue Docteur-Bonhomme</td>\n",
       "      <td>8335</td>\n",
       "      <td>45421</td>\n",
       "      <td>01-16-18-90-85</td>\n",
       "      <td>06-19-81-07-24</td>\n",
       "      <td>teo.noel@example.com</td>\n",
       "      <td>crazyostrich696</td>\n",
       "      <td>nitro</td>\n",
       "    </tr>\n",
       "  </tbody>\n",
       "</table>\n",
       "<p>10000 rows × 17 columns</p>\n",
       "</div>"
      ],
      "text/plain": [
       "     first_name  last_name  gender title  age nat         country  \\\n",
       "0          Lola  Mcdonalid  female   Mrs   66  GB  United Kingdom   \n",
       "1       Estelle   Martinez  female  Miss   39  FR          France   \n",
       "2          Paul    Olivier    male    Mr   26  FR          France   \n",
       "3        Vildan   Elçiboğa  female  Miss   66  TR          Turkey   \n",
       "4          Asta  Rasmussen  female    Ms   23  DK         Denmark   \n",
       "...         ...        ...     ...   ...  ...  ..             ...   \n",
       "9995     Sophie     Claire  female  Miss   57  CA          Canada   \n",
       "9996      Liron      Jobse    male    Mr   24  NL     Netherlands   \n",
       "9997       Troy       Long    male    Mr   44  AU       Australia   \n",
       "9998   Benjamin       Boyd    male    Mr   50  AU       Australia   \n",
       "9999        Téo       Noel    male    Mr   29  FR          France   \n",
       "\n",
       "                          state            city  \\\n",
       "0                     Cleveland     Westminster   \n",
       "1               Alpes-Maritimes           Nancy   \n",
       "2                      Dordogne           Dijon   \n",
       "3                       Kocaeli          Şırnak   \n",
       "4                      Sjælland          Lundby   \n",
       "...                         ...             ...   \n",
       "9995  Newfoundland and Labrador        Westport   \n",
       "9996                    Utrecht  West-Graftdijk   \n",
       "9997            South Australia          Cairns   \n",
       "9998            New South Wales       Geraldton   \n",
       "9999                 La Réunion          Angers   \n",
       "\n",
       "                           street_name  street_number postcode  \\\n",
       "0                            Queensway             78   P4 0FG   \n",
       "1                         Rue de Cuire           5725    82167   \n",
       "2     Place de L'Abbé-Georges-Hénocque           8586    54038   \n",
       "3                            Abanoz Sk           7964    48532   \n",
       "4                            Skovbovej           7501    67571   \n",
       "...                                ...            ...      ...   \n",
       "9995                          Brock Rd           3865  Y3C 7I8   \n",
       "9996                          Kruisweg           8929    34307   \n",
       "9997                Stevens Creek Blvd           6924     7367   \n",
       "9998                          Daisy Dr           4484     6266   \n",
       "9999              Rue Docteur-Bonhomme           8335    45421   \n",
       "\n",
       "               phone            cell                         email  \\\n",
       "0       013873 08894    0769-456-124    lola.mcdonalid@example.com   \n",
       "1     03-04-20-78-34  06-89-29-24-70  estelle.martinez@example.com   \n",
       "2     01-68-38-67-56  06-63-49-01-60      paul.olivier@example.com   \n",
       "3     (264)-871-6729  (904)-287-1353   vildan.elciboga@example.com   \n",
       "4           33509617        71270627    asta.rasmussen@example.com   \n",
       "...              ...             ...                           ...   \n",
       "9995    346-183-3407    758-986-2443     sophie.claire@example.com   \n",
       "9996  (336)-478-5432  (069)-383-7995       liron.jobse@example.com   \n",
       "9997    07-8399-5488    0490-672-402         troy.long@example.com   \n",
       "9998    08-8808-2132    0486-279-402     benjamin.boyd@example.com   \n",
       "9999  01-16-18-90-85  06-19-81-07-24          teo.noel@example.com   \n",
       "\n",
       "                 username  password  \n",
       "0           sadladybug790     alive  \n",
       "1            smallfish105   channel  \n",
       "2        crazyelephant615   dodgers  \n",
       "3     beautifulleopard232    frodo1  \n",
       "4        crazyelephant792     poopy  \n",
       "...                   ...       ...  \n",
       "9995     ticklishpanda658  23skidoo  \n",
       "9996     purplemeercat997      solo  \n",
       "9997     greenelephant236    skibum  \n",
       "9998        crazypanda320     lopez  \n",
       "9999      crazyostrich696     nitro  \n",
       "\n",
       "[10000 rows x 17 columns]"
      ]
     },
     "execution_count": 22,
     "metadata": {},
     "output_type": "execute_result"
    }
   ],
   "source": [
    "df"
   ]
  },
  {
   "cell_type": "code",
   "execution_count": 23,
   "id": "ethical-spencer",
   "metadata": {},
   "outputs": [],
   "source": [
    "# So, our dataframe is ready ⬆"
   ]
  },
  {
   "cell_type": "markdown",
   "id": "difficult-raleigh",
   "metadata": {},
   "source": [
    "# EDA"
   ]
  },
  {
   "cell_type": "code",
   "execution_count": 24,
   "id": "sophisticated-sequence",
   "metadata": {},
   "outputs": [
    {
     "data": {
      "text/html": [
       "<div>\n",
       "<style scoped>\n",
       "    .dataframe tbody tr th:only-of-type {\n",
       "        vertical-align: middle;\n",
       "    }\n",
       "\n",
       "    .dataframe tbody tr th {\n",
       "        vertical-align: top;\n",
       "    }\n",
       "\n",
       "    .dataframe thead th {\n",
       "        text-align: right;\n",
       "    }\n",
       "</style>\n",
       "<table border=\"1\" class=\"dataframe\">\n",
       "  <thead>\n",
       "    <tr style=\"text-align: right;\">\n",
       "      <th></th>\n",
       "      <th>first_name</th>\n",
       "      <th>last_name</th>\n",
       "      <th>gender</th>\n",
       "      <th>title</th>\n",
       "      <th>age</th>\n",
       "      <th>nat</th>\n",
       "      <th>country</th>\n",
       "      <th>state</th>\n",
       "      <th>city</th>\n",
       "      <th>street_name</th>\n",
       "      <th>street_number</th>\n",
       "      <th>postcode</th>\n",
       "      <th>phone</th>\n",
       "      <th>cell</th>\n",
       "      <th>email</th>\n",
       "      <th>username</th>\n",
       "      <th>password</th>\n",
       "    </tr>\n",
       "  </thead>\n",
       "  <tbody>\n",
       "    <tr>\n",
       "      <th>0</th>\n",
       "      <td>Lola</td>\n",
       "      <td>Mcdonalid</td>\n",
       "      <td>female</td>\n",
       "      <td>Mrs</td>\n",
       "      <td>66</td>\n",
       "      <td>GB</td>\n",
       "      <td>United Kingdom</td>\n",
       "      <td>Cleveland</td>\n",
       "      <td>Westminster</td>\n",
       "      <td>Queensway</td>\n",
       "      <td>78</td>\n",
       "      <td>P4 0FG</td>\n",
       "      <td>013873 08894</td>\n",
       "      <td>0769-456-124</td>\n",
       "      <td>lola.mcdonalid@example.com</td>\n",
       "      <td>sadladybug790</td>\n",
       "      <td>alive</td>\n",
       "    </tr>\n",
       "    <tr>\n",
       "      <th>1</th>\n",
       "      <td>Estelle</td>\n",
       "      <td>Martinez</td>\n",
       "      <td>female</td>\n",
       "      <td>Miss</td>\n",
       "      <td>39</td>\n",
       "      <td>FR</td>\n",
       "      <td>France</td>\n",
       "      <td>Alpes-Maritimes</td>\n",
       "      <td>Nancy</td>\n",
       "      <td>Rue de Cuire</td>\n",
       "      <td>5725</td>\n",
       "      <td>82167</td>\n",
       "      <td>03-04-20-78-34</td>\n",
       "      <td>06-89-29-24-70</td>\n",
       "      <td>estelle.martinez@example.com</td>\n",
       "      <td>smallfish105</td>\n",
       "      <td>channel</td>\n",
       "    </tr>\n",
       "    <tr>\n",
       "      <th>2</th>\n",
       "      <td>Paul</td>\n",
       "      <td>Olivier</td>\n",
       "      <td>male</td>\n",
       "      <td>Mr</td>\n",
       "      <td>26</td>\n",
       "      <td>FR</td>\n",
       "      <td>France</td>\n",
       "      <td>Dordogne</td>\n",
       "      <td>Dijon</td>\n",
       "      <td>Place de L'Abbé-Georges-Hénocque</td>\n",
       "      <td>8586</td>\n",
       "      <td>54038</td>\n",
       "      <td>01-68-38-67-56</td>\n",
       "      <td>06-63-49-01-60</td>\n",
       "      <td>paul.olivier@example.com</td>\n",
       "      <td>crazyelephant615</td>\n",
       "      <td>dodgers</td>\n",
       "    </tr>\n",
       "    <tr>\n",
       "      <th>3</th>\n",
       "      <td>Vildan</td>\n",
       "      <td>Elçiboğa</td>\n",
       "      <td>female</td>\n",
       "      <td>Miss</td>\n",
       "      <td>66</td>\n",
       "      <td>TR</td>\n",
       "      <td>Turkey</td>\n",
       "      <td>Kocaeli</td>\n",
       "      <td>Şırnak</td>\n",
       "      <td>Abanoz Sk</td>\n",
       "      <td>7964</td>\n",
       "      <td>48532</td>\n",
       "      <td>(264)-871-6729</td>\n",
       "      <td>(904)-287-1353</td>\n",
       "      <td>vildan.elciboga@example.com</td>\n",
       "      <td>beautifulleopard232</td>\n",
       "      <td>frodo1</td>\n",
       "    </tr>\n",
       "    <tr>\n",
       "      <th>4</th>\n",
       "      <td>Asta</td>\n",
       "      <td>Rasmussen</td>\n",
       "      <td>female</td>\n",
       "      <td>Ms</td>\n",
       "      <td>23</td>\n",
       "      <td>DK</td>\n",
       "      <td>Denmark</td>\n",
       "      <td>Sjælland</td>\n",
       "      <td>Lundby</td>\n",
       "      <td>Skovbovej</td>\n",
       "      <td>7501</td>\n",
       "      <td>67571</td>\n",
       "      <td>33509617</td>\n",
       "      <td>71270627</td>\n",
       "      <td>asta.rasmussen@example.com</td>\n",
       "      <td>crazyelephant792</td>\n",
       "      <td>poopy</td>\n",
       "    </tr>\n",
       "  </tbody>\n",
       "</table>\n",
       "</div>"
      ],
      "text/plain": [
       "  first_name  last_name  gender title  age nat         country  \\\n",
       "0       Lola  Mcdonalid  female   Mrs   66  GB  United Kingdom   \n",
       "1    Estelle   Martinez  female  Miss   39  FR          France   \n",
       "2       Paul    Olivier    male    Mr   26  FR          France   \n",
       "3     Vildan   Elçiboğa  female  Miss   66  TR          Turkey   \n",
       "4       Asta  Rasmussen  female    Ms   23  DK         Denmark   \n",
       "\n",
       "             state         city                       street_name  \\\n",
       "0        Cleveland  Westminster                         Queensway   \n",
       "1  Alpes-Maritimes        Nancy                      Rue de Cuire   \n",
       "2         Dordogne        Dijon  Place de L'Abbé-Georges-Hénocque   \n",
       "3          Kocaeli       Şırnak                         Abanoz Sk   \n",
       "4         Sjælland       Lundby                         Skovbovej   \n",
       "\n",
       "   street_number postcode           phone            cell  \\\n",
       "0             78   P4 0FG    013873 08894    0769-456-124   \n",
       "1           5725    82167  03-04-20-78-34  06-89-29-24-70   \n",
       "2           8586    54038  01-68-38-67-56  06-63-49-01-60   \n",
       "3           7964    48532  (264)-871-6729  (904)-287-1353   \n",
       "4           7501    67571        33509617        71270627   \n",
       "\n",
       "                          email             username password  \n",
       "0    lola.mcdonalid@example.com        sadladybug790    alive  \n",
       "1  estelle.martinez@example.com         smallfish105  channel  \n",
       "2      paul.olivier@example.com     crazyelephant615  dodgers  \n",
       "3   vildan.elciboga@example.com  beautifulleopard232   frodo1  \n",
       "4    asta.rasmussen@example.com     crazyelephant792    poopy  "
      ]
     },
     "execution_count": 24,
     "metadata": {},
     "output_type": "execute_result"
    }
   ],
   "source": [
    "df.head()"
   ]
  },
  {
   "cell_type": "code",
   "execution_count": 25,
   "id": "married-peace",
   "metadata": {},
   "outputs": [
    {
     "data": {
      "text/plain": [
       "first_name       0\n",
       "last_name        0\n",
       "gender           0\n",
       "title            0\n",
       "age              0\n",
       "nat              0\n",
       "country          0\n",
       "state            0\n",
       "city             0\n",
       "street_name      0\n",
       "street_number    0\n",
       "postcode         0\n",
       "phone            0\n",
       "cell             0\n",
       "email            0\n",
       "username         0\n",
       "password         0\n",
       "dtype: int64"
      ]
     },
     "execution_count": 25,
     "metadata": {},
     "output_type": "execute_result"
    }
   ],
   "source": [
    "# Let's check for missing values\n",
    "\n",
    "df.isnull().sum()"
   ]
  },
  {
   "cell_type": "code",
   "execution_count": 26,
   "id": "successful-prediction",
   "metadata": {},
   "outputs": [
    {
     "name": "stdout",
     "output_type": "stream",
     "text": [
      "<class 'pandas.core.frame.DataFrame'>\n",
      "RangeIndex: 10000 entries, 0 to 9999\n",
      "Data columns (total 17 columns):\n",
      " #   Column         Non-Null Count  Dtype \n",
      "---  ------         --------------  ----- \n",
      " 0   first_name     10000 non-null  object\n",
      " 1   last_name      10000 non-null  object\n",
      " 2   gender         10000 non-null  object\n",
      " 3   title          10000 non-null  object\n",
      " 4   age            10000 non-null  int64 \n",
      " 5   nat            10000 non-null  object\n",
      " 6   country        10000 non-null  object\n",
      " 7   state          10000 non-null  object\n",
      " 8   city           10000 non-null  object\n",
      " 9   street_name    10000 non-null  object\n",
      " 10  street_number  10000 non-null  int64 \n",
      " 11  postcode       10000 non-null  object\n",
      " 12  phone          10000 non-null  object\n",
      " 13  cell           10000 non-null  object\n",
      " 14  email          10000 non-null  object\n",
      " 15  username       10000 non-null  object\n",
      " 16  password       10000 non-null  object\n",
      "dtypes: int64(2), object(15)\n",
      "memory usage: 742.2+ KB\n"
     ]
    }
   ],
   "source": [
    "#  Let us check the data types of each attribute\n",
    "\n",
    "df.info()"
   ]
  },
  {
   "cell_type": "code",
   "execution_count": 27,
   "id": "super-commonwealth",
   "metadata": {},
   "outputs": [
    {
     "data": {
      "text/plain": [
       "10000"
      ]
     },
     "execution_count": 27,
     "metadata": {},
     "output_type": "execute_result"
    }
   ],
   "source": [
    "# Let's one more time drop duplicates, if they exist\n",
    "\n",
    "len(df.drop_duplicates())"
   ]
  },
  {
   "cell_type": "code",
   "execution_count": 28,
   "id": "dependent-paraguay",
   "metadata": {},
   "outputs": [],
   "source": [
    "# They don't exist. Everythin is fine. Let's move on."
   ]
  },
  {
   "cell_type": "code",
   "execution_count": 29,
   "id": "several-suggestion",
   "metadata": {},
   "outputs": [
    {
     "name": "stdout",
     "output_type": "stream",
     "text": [
      "first_name - 3308\n",
      "last_name - 2694\n",
      "gender - 2\n",
      "title - 7\n",
      "age - 55\n",
      "nat - 17\n",
      "country - 17\n",
      "state - 545\n",
      "city - 3498\n",
      "street_name - 2440\n",
      "street_number - 6310\n",
      "postcode - 9666\n",
      "phone - 10000\n",
      "cell - 10000\n",
      "email - 9745\n",
      "username - 9925\n",
      "password - 5644\n"
     ]
    }
   ],
   "source": [
    "# Let's get the number of unique values for each attribute\n",
    "\n",
    "for col in df:\n",
    "    print(col, '-', len(df[col].unique()))"
   ]
  },
  {
   "cell_type": "markdown",
   "id": "alien-young",
   "metadata": {},
   "source": [
    "### <span style=\"color:green\">Gender</span>"
   ]
  },
  {
   "cell_type": "code",
   "execution_count": 30,
   "id": "designing-supplier",
   "metadata": {},
   "outputs": [
    {
     "data": {
      "image/png": "[encoded data removed]",
      "text/plain": [
       "<Figure size 432x288 with 1 Axes>"
      ]
     },
     "metadata": {
      "needs_background": "light"
     },
     "output_type": "display_data"
    }
   ],
   "source": [
    "x = np.array([\"male\", \"female\"])\n",
    "y = np.array([len(df[df['gender'] == 'female']),len(df[df['gender'] == 'female'])])\n",
    "\n",
    "plt.bar(x,y)\n",
    "plt.show()"
   ]
  },
  {
   "cell_type": "code",
   "execution_count": 31,
   "id": "running-chuck",
   "metadata": {},
   "outputs": [
    {
     "name": "stdout",
     "output_type": "stream",
     "text": [
      "male - 4930\n",
      "female - 4930\n"
     ]
    }
   ],
   "source": [
    "# Males and females are almost equal\n",
    "\n",
    "print(x[0],'-',y[0])\n",
    "print(x[1],'-',y[1])"
   ]
  },
  {
   "cell_type": "markdown",
   "id": "essential-seating",
   "metadata": {},
   "source": [
    "### <span style=\"color:green\">Title</span>"
   ]
  },
  {
   "cell_type": "code",
   "execution_count": 32,
   "id": "possible-tanzania",
   "metadata": {},
   "outputs": [
    {
     "data": {
      "image/png": "[encoded data removed]",
      "text/plain": [
       "<Figure size 432x288 with 1 Axes>"
      ]
     },
     "metadata": {
      "needs_background": "light"
     },
     "output_type": "display_data"
    }
   ],
   "source": [
    "# Function to add value labels\n",
    "\n",
    "def valuelabel(x,y):\n",
    "    for i in range(len(x)):\n",
    "        plt.text(i,y[i],y[i], ha = 'center',\n",
    "                 bbox = dict(facecolor = 'cyan', alpha =0.8))\n",
    "        \n",
    "# Main function\n",
    "  \n",
    "    \n",
    "# Define data\n",
    "x = df['title'].unique()\n",
    "y = np.array([len(df[df['title'] == i]) for i in x])\n",
    "\n",
    "\n",
    "\n",
    "# Plot bar chart\n",
    "plt.bar(x, y, color= 'orange')\n",
    "\n",
    "# Call function\n",
    "valuelabel(x, y)       \n",
    "\n",
    "# Define labels\n",
    "plt.xlabel(\"Titles of users\")\n",
    "plt.ylabel(\"Number of users\")\n",
    "\n",
    "plt.xticks(rotation=90)\n",
    "\n",
    "# Display plot\n",
    "plt.show()"
   ]
  },
  {
   "cell_type": "code",
   "execution_count": 33,
   "id": "partial-effect",
   "metadata": {},
   "outputs": [],
   "source": [
    "# Here, we see that among users most of them are have 'Mr' title and the least of them have 'Mademoiselle' title."
   ]
  },
  {
   "cell_type": "markdown",
   "id": "entitled-induction",
   "metadata": {},
   "source": [
    "### <span style=\"color:green\">Age</span>"
   ]
  },
  {
   "cell_type": "code",
   "execution_count": 34,
   "id": "moderate-allergy",
   "metadata": {},
   "outputs": [
    {
     "data": {
      "text/plain": [
       "count    10000.000000\n",
       "mean        49.799400\n",
       "std         15.676656\n",
       "min         23.000000\n",
       "25%         36.000000\n",
       "50%         50.000000\n",
       "75%         63.000000\n",
       "max         77.000000\n",
       "Name: age, dtype: float64"
      ]
     },
     "execution_count": 34,
     "metadata": {},
     "output_type": "execute_result"
    }
   ],
   "source": [
    "df['age'].describe()"
   ]
  },
  {
   "cell_type": "code",
   "execution_count": 36,
   "id": "exotic-sleeve",
   "metadata": {},
   "outputs": [],
   "source": [
    "# The youngest user is 23 years old and the oldest one is 77 years old"
   ]
  },
  {
   "cell_type": "markdown",
   "id": "radical-institution",
   "metadata": {},
   "source": [
    "### <span style=\"color:green\">Country, state</span>"
   ]
  },
  {
   "cell_type": "code",
   "execution_count": 37,
   "id": "isolated-jersey",
   "metadata": {},
   "outputs": [
    {
     "data": {
      "image/png": "[encoded data removed]",
      "text/plain": [
       "<Figure size 432x288 with 1 Axes>"
      ]
     },
     "metadata": {},
     "output_type": "display_data"
    }
   ],
   "source": [
    "x = df['country'].unique()\n",
    "y = np.array([len(df[df['country'] == i]) for i in x])\n",
    "\n",
    "plt.pie(y, labels = x)\n",
    "plt.show() "
   ]
  },
  {
   "cell_type": "code",
   "execution_count": 38,
   "id": "trying-singing",
   "metadata": {},
   "outputs": [],
   "source": [
    "# Here we see that all 10000 users are almost equally distributed amoung 17 countries"
   ]
  },
  {
   "cell_type": "code",
   "execution_count": 39,
   "id": "vocal-rubber",
   "metadata": {},
   "outputs": [],
   "source": [
    "by_countries_states = df.groupby(['country','state']).count()[['first_name']]"
   ]
  },
  {
   "cell_type": "code",
   "execution_count": 40,
   "id": "optional-specialist",
   "metadata": {},
   "outputs": [
    {
     "data": {
      "text/html": [
       "<div>\n",
       "<style scoped>\n",
       "    .dataframe tbody tr th:only-of-type {\n",
       "        vertical-align: middle;\n",
       "    }\n",
       "\n",
       "    .dataframe tbody tr th {\n",
       "        vertical-align: top;\n",
       "    }\n",
       "\n",
       "    .dataframe thead th {\n",
       "        text-align: right;\n",
       "    }\n",
       "</style>\n",
       "<table border=\"1\" class=\"dataframe\">\n",
       "  <thead>\n",
       "    <tr style=\"text-align: right;\">\n",
       "      <th></th>\n",
       "      <th></th>\n",
       "      <th>first_name</th>\n",
       "    </tr>\n",
       "    <tr>\n",
       "      <th>country</th>\n",
       "      <th>state</th>\n",
       "      <th></th>\n",
       "    </tr>\n",
       "  </thead>\n",
       "  <tbody>\n",
       "    <tr>\n",
       "      <th rowspan=\"5\" valign=\"top\">Australia</th>\n",
       "      <th>Australian Capital Territory</th>\n",
       "      <td>73</td>\n",
       "    </tr>\n",
       "    <tr>\n",
       "      <th>New South Wales</th>\n",
       "      <td>57</td>\n",
       "    </tr>\n",
       "    <tr>\n",
       "      <th>Northern Territory</th>\n",
       "      <td>70</td>\n",
       "    </tr>\n",
       "    <tr>\n",
       "      <th>Queensland</th>\n",
       "      <td>89</td>\n",
       "    </tr>\n",
       "    <tr>\n",
       "      <th>South Australia</th>\n",
       "      <td>100</td>\n",
       "    </tr>\n",
       "    <tr>\n",
       "      <th>...</th>\n",
       "      <th>...</th>\n",
       "      <td>...</td>\n",
       "    </tr>\n",
       "    <tr>\n",
       "      <th rowspan=\"5\" valign=\"top\">United States</th>\n",
       "      <th>Virginia</th>\n",
       "      <td>12</td>\n",
       "    </tr>\n",
       "    <tr>\n",
       "      <th>Washington</th>\n",
       "      <td>16</td>\n",
       "    </tr>\n",
       "    <tr>\n",
       "      <th>West Virginia</th>\n",
       "      <td>13</td>\n",
       "    </tr>\n",
       "    <tr>\n",
       "      <th>Wisconsin</th>\n",
       "      <td>12</td>\n",
       "    </tr>\n",
       "    <tr>\n",
       "      <th>Wyoming</th>\n",
       "      <td>16</td>\n",
       "    </tr>\n",
       "  </tbody>\n",
       "</table>\n",
       "<p>546 rows × 1 columns</p>\n",
       "</div>"
      ],
      "text/plain": [
       "                                            first_name\n",
       "country       state                                   \n",
       "Australia     Australian Capital Territory          73\n",
       "              New South Wales                       57\n",
       "              Northern Territory                    70\n",
       "              Queensland                            89\n",
       "              South Australia                      100\n",
       "...                                                ...\n",
       "United States Virginia                              12\n",
       "              Washington                            16\n",
       "              West Virginia                         13\n",
       "              Wisconsin                             12\n",
       "              Wyoming                               16\n",
       "\n",
       "[546 rows x 1 columns]"
      ]
     },
     "execution_count": 40,
     "metadata": {},
     "output_type": "execute_result"
    }
   ],
   "source": [
    "by_countries_states"
   ]
  },
  {
   "cell_type": "code",
   "execution_count": 41,
   "id": "imposed-raise",
   "metadata": {},
   "outputs": [
    {
     "data": {
      "text/html": [
       "<div>\n",
       "<style scoped>\n",
       "    .dataframe tbody tr th:only-of-type {\n",
       "        vertical-align: middle;\n",
       "    }\n",
       "\n",
       "    .dataframe tbody tr th {\n",
       "        vertical-align: top;\n",
       "    }\n",
       "\n",
       "    .dataframe thead th {\n",
       "        text-align: right;\n",
       "    }\n",
       "</style>\n",
       "<table border=\"1\" class=\"dataframe\">\n",
       "  <thead>\n",
       "    <tr style=\"text-align: right;\">\n",
       "      <th></th>\n",
       "      <th></th>\n",
       "      <th>first_name</th>\n",
       "    </tr>\n",
       "    <tr>\n",
       "      <th>country</th>\n",
       "      <th>state</th>\n",
       "      <th></th>\n",
       "    </tr>\n",
       "  </thead>\n",
       "  <tbody>\n",
       "    <tr>\n",
       "      <th rowspan=\"2\" valign=\"top\">France</th>\n",
       "      <th>Guyane</th>\n",
       "      <td>1</td>\n",
       "    </tr>\n",
       "    <tr>\n",
       "      <th>Var</th>\n",
       "      <td>1</td>\n",
       "    </tr>\n",
       "    <tr>\n",
       "      <th>Turkey</th>\n",
       "      <th>Şanlıurfa</th>\n",
       "      <td>1</td>\n",
       "    </tr>\n",
       "  </tbody>\n",
       "</table>\n",
       "</div>"
      ],
      "text/plain": [
       "                   first_name\n",
       "country state                \n",
       "France  Guyane              1\n",
       "        Var                 1\n",
       "Turkey  Şanlıurfa           1"
      ]
     },
     "execution_count": 41,
     "metadata": {},
     "output_type": "execute_result"
    }
   ],
   "source": [
    "by_countries_states[by_countries_states['first_name'] == by_countries_states['first_name'].min()]"
   ]
  },
  {
   "cell_type": "code",
   "execution_count": 42,
   "id": "systematic-peripheral",
   "metadata": {},
   "outputs": [
    {
     "data": {
      "text/html": [
       "<div>\n",
       "<style scoped>\n",
       "    .dataframe tbody tr th:only-of-type {\n",
       "        vertical-align: middle;\n",
       "    }\n",
       "\n",
       "    .dataframe tbody tr th {\n",
       "        vertical-align: top;\n",
       "    }\n",
       "\n",
       "    .dataframe thead th {\n",
       "        text-align: right;\n",
       "    }\n",
       "</style>\n",
       "<table border=\"1\" class=\"dataframe\">\n",
       "  <thead>\n",
       "    <tr style=\"text-align: right;\">\n",
       "      <th></th>\n",
       "      <th></th>\n",
       "      <th>first_name</th>\n",
       "    </tr>\n",
       "    <tr>\n",
       "      <th>country</th>\n",
       "      <th>state</th>\n",
       "      <th></th>\n",
       "    </tr>\n",
       "  </thead>\n",
       "  <tbody>\n",
       "    <tr>\n",
       "      <th>Denmark</th>\n",
       "      <th>Midtjylland</th>\n",
       "      <td>115</td>\n",
       "    </tr>\n",
       "  </tbody>\n",
       "</table>\n",
       "</div>"
      ],
      "text/plain": [
       "                     first_name\n",
       "country state                  \n",
       "Denmark Midtjylland         115"
      ]
     },
     "execution_count": 42,
     "metadata": {},
     "output_type": "execute_result"
    }
   ],
   "source": [
    "by_countries_states[by_countries_states['first_name'] == by_countries_states['first_name'].max()]"
   ]
  },
  {
   "cell_type": "code",
   "execution_count": 48,
   "id": "sustained-cemetery",
   "metadata": {},
   "outputs": [],
   "source": [
    "# Here we see that the states with the least users are Guyane, Var, Şanlıurfa\n",
    "#           and the only state with the most users is Midtjylland in Denmark"
   ]
  },
  {
   "cell_type": "markdown",
   "id": "gothic-hypothesis",
   "metadata": {},
   "source": [
    "### <span style=\"color:green\">Country, gender</span>"
   ]
  },
  {
   "cell_type": "code",
   "execution_count": 44,
   "id": "wrong-curve",
   "metadata": {},
   "outputs": [],
   "source": [
    "by_countries_gender = df.groupby(['country','gender']).count()[['first_name']]"
   ]
  },
  {
   "cell_type": "code",
   "execution_count": 45,
   "id": "apparent-interface",
   "metadata": {},
   "outputs": [
    {
     "data": {
      "text/html": [
       "<div>\n",
       "<style scoped>\n",
       "    .dataframe tbody tr th:only-of-type {\n",
       "        vertical-align: middle;\n",
       "    }\n",
       "\n",
       "    .dataframe tbody tr th {\n",
       "        vertical-align: top;\n",
       "    }\n",
       "\n",
       "    .dataframe thead th {\n",
       "        text-align: right;\n",
       "    }\n",
       "</style>\n",
       "<table border=\"1\" class=\"dataframe\">\n",
       "  <thead>\n",
       "    <tr style=\"text-align: right;\">\n",
       "      <th></th>\n",
       "      <th></th>\n",
       "      <th>first_name</th>\n",
       "    </tr>\n",
       "    <tr>\n",
       "      <th>country</th>\n",
       "      <th>gender</th>\n",
       "      <th></th>\n",
       "    </tr>\n",
       "  </thead>\n",
       "  <tbody>\n",
       "    <tr>\n",
       "      <th rowspan=\"2\" valign=\"top\">Australia</th>\n",
       "      <th>female</th>\n",
       "      <td>306</td>\n",
       "    </tr>\n",
       "    <tr>\n",
       "      <th>male</th>\n",
       "      <td>299</td>\n",
       "    </tr>\n",
       "    <tr>\n",
       "      <th rowspan=\"2\" valign=\"top\">Brazil</th>\n",
       "      <th>female</th>\n",
       "      <td>295</td>\n",
       "    </tr>\n",
       "    <tr>\n",
       "      <th>male</th>\n",
       "      <td>298</td>\n",
       "    </tr>\n",
       "    <tr>\n",
       "      <th rowspan=\"2\" valign=\"top\">Canada</th>\n",
       "      <th>female</th>\n",
       "      <td>315</td>\n",
       "    </tr>\n",
       "    <tr>\n",
       "      <th>male</th>\n",
       "      <td>310</td>\n",
       "    </tr>\n",
       "    <tr>\n",
       "      <th rowspan=\"2\" valign=\"top\">Denmark</th>\n",
       "      <th>female</th>\n",
       "      <td>290</td>\n",
       "    </tr>\n",
       "    <tr>\n",
       "      <th>male</th>\n",
       "      <td>288</td>\n",
       "    </tr>\n",
       "    <tr>\n",
       "      <th rowspan=\"2\" valign=\"top\">Finland</th>\n",
       "      <th>female</th>\n",
       "      <td>241</td>\n",
       "    </tr>\n",
       "    <tr>\n",
       "      <th>male</th>\n",
       "      <td>300</td>\n",
       "    </tr>\n",
       "    <tr>\n",
       "      <th rowspan=\"2\" valign=\"top\">France</th>\n",
       "      <th>female</th>\n",
       "      <td>311</td>\n",
       "    </tr>\n",
       "    <tr>\n",
       "      <th>male</th>\n",
       "      <td>264</td>\n",
       "    </tr>\n",
       "    <tr>\n",
       "      <th rowspan=\"2\" valign=\"top\">Germany</th>\n",
       "      <th>female</th>\n",
       "      <td>344</td>\n",
       "    </tr>\n",
       "    <tr>\n",
       "      <th>male</th>\n",
       "      <td>308</td>\n",
       "    </tr>\n",
       "    <tr>\n",
       "      <th rowspan=\"2\" valign=\"top\">Iran</th>\n",
       "      <th>female</th>\n",
       "      <td>259</td>\n",
       "    </tr>\n",
       "    <tr>\n",
       "      <th>male</th>\n",
       "      <td>322</td>\n",
       "    </tr>\n",
       "    <tr>\n",
       "      <th rowspan=\"2\" valign=\"top\">Ireland</th>\n",
       "      <th>female</th>\n",
       "      <td>276</td>\n",
       "    </tr>\n",
       "    <tr>\n",
       "      <th>male</th>\n",
       "      <td>281</td>\n",
       "    </tr>\n",
       "    <tr>\n",
       "      <th rowspan=\"2\" valign=\"top\">Netherlands</th>\n",
       "      <th>female</th>\n",
       "      <td>270</td>\n",
       "    </tr>\n",
       "    <tr>\n",
       "      <th>male</th>\n",
       "      <td>275</td>\n",
       "    </tr>\n",
       "    <tr>\n",
       "      <th rowspan=\"2\" valign=\"top\">New Zealand</th>\n",
       "      <th>female</th>\n",
       "      <td>271</td>\n",
       "    </tr>\n",
       "    <tr>\n",
       "      <th>male</th>\n",
       "      <td>325</td>\n",
       "    </tr>\n",
       "    <tr>\n",
       "      <th rowspan=\"2\" valign=\"top\">Norway</th>\n",
       "      <th>female</th>\n",
       "      <td>301</td>\n",
       "    </tr>\n",
       "    <tr>\n",
       "      <th>male</th>\n",
       "      <td>328</td>\n",
       "    </tr>\n",
       "    <tr>\n",
       "      <th rowspan=\"2\" valign=\"top\">Spain</th>\n",
       "      <th>female</th>\n",
       "      <td>293</td>\n",
       "    </tr>\n",
       "    <tr>\n",
       "      <th>male</th>\n",
       "      <td>306</td>\n",
       "    </tr>\n",
       "    <tr>\n",
       "      <th rowspan=\"2\" valign=\"top\">Switzerland</th>\n",
       "      <th>female</th>\n",
       "      <td>286</td>\n",
       "    </tr>\n",
       "    <tr>\n",
       "      <th>male</th>\n",
       "      <td>311</td>\n",
       "    </tr>\n",
       "    <tr>\n",
       "      <th rowspan=\"2\" valign=\"top\">Turkey</th>\n",
       "      <th>female</th>\n",
       "      <td>281</td>\n",
       "    </tr>\n",
       "    <tr>\n",
       "      <th>male</th>\n",
       "      <td>278</td>\n",
       "    </tr>\n",
       "    <tr>\n",
       "      <th rowspan=\"2\" valign=\"top\">United Kingdom</th>\n",
       "      <th>female</th>\n",
       "      <td>314</td>\n",
       "    </tr>\n",
       "    <tr>\n",
       "      <th>male</th>\n",
       "      <td>279</td>\n",
       "    </tr>\n",
       "    <tr>\n",
       "      <th rowspan=\"2\" valign=\"top\">United States</th>\n",
       "      <th>female</th>\n",
       "      <td>277</td>\n",
       "    </tr>\n",
       "    <tr>\n",
       "      <th>male</th>\n",
       "      <td>298</td>\n",
       "    </tr>\n",
       "  </tbody>\n",
       "</table>\n",
       "</div>"
      ],
      "text/plain": [
       "                       first_name\n",
       "country        gender            \n",
       "Australia      female         306\n",
       "               male           299\n",
       "Brazil         female         295\n",
       "               male           298\n",
       "Canada         female         315\n",
       "               male           310\n",
       "Denmark        female         290\n",
       "               male           288\n",
       "Finland        female         241\n",
       "               male           300\n",
       "France         female         311\n",
       "               male           264\n",
       "Germany        female         344\n",
       "               male           308\n",
       "Iran           female         259\n",
       "               male           322\n",
       "Ireland        female         276\n",
       "               male           281\n",
       "Netherlands    female         270\n",
       "               male           275\n",
       "New Zealand    female         271\n",
       "               male           325\n",
       "Norway         female         301\n",
       "               male           328\n",
       "Spain          female         293\n",
       "               male           306\n",
       "Switzerland    female         286\n",
       "               male           311\n",
       "Turkey         female         281\n",
       "               male           278\n",
       "United Kingdom female         314\n",
       "               male           279\n",
       "United States  female         277\n",
       "               male           298"
      ]
     },
     "execution_count": 45,
     "metadata": {},
     "output_type": "execute_result"
    }
   ],
   "source": [
    "by_countries_gender"
   ]
  },
  {
   "cell_type": "code",
   "execution_count": 46,
   "id": "wrapped-freight",
   "metadata": {},
   "outputs": [
    {
     "data": {
      "image/png": "[encoded data removed]",
      "text/plain": [
       "<Figure size 1440x720 with 1 Axes>"
      ]
     },
     "metadata": {
      "needs_background": "light"
     },
     "output_type": "display_data"
    }
   ],
   "source": [
    "labels = df['country'].unique()\n",
    "male = [by_countries_gender.loc[i].loc['male'][0] for i in labels]\n",
    "female = [by_countries_gender.loc[i].loc['female'][0] for i in labels]\n",
    "\n",
    "plt.rcParams[\"figure.figsize\"] = (20,10)\n",
    "\n",
    "x = np.arange(len(labels))\n",
    "width = 0.35\n",
    "\n",
    "fig, ax = plt.subplots()\n",
    "rects1 = ax.bar(x - width/2, male, width, label='Men')\n",
    "rects2 = ax.bar(x + width/2, female, width, label='Women')\n",
    "\n",
    "ax.set_ylabel('Amount')\n",
    "ax.set_title('The amount of users by their country and gender')\n",
    "ax.set_xticks(x)\n",
    "ax.set_xticklabels(labels)\n",
    "ax.legend()\n",
    "\n",
    "def autolabel(rects):\n",
    "    for rect in rects:\n",
    "        height = rect.get_height()\n",
    "        ax.annotate('{}'.format(height),\n",
    "                    xy=(rect.get_x() + rect.get_width() / 2, height),\n",
    "                    xytext=(0, 3),  # 3 points vertical offset\n",
    "                    textcoords=\"offset points\",\n",
    "                    ha='center', va='bottom')\n",
    "\n",
    "\n",
    "autolabel(rects1)\n",
    "autolabel(rects2)\n",
    "\n",
    "fig.tight_layout()\n",
    "plt.xticks(rotation=90)\n",
    "plt.show()"
   ]
  },
  {
   "cell_type": "code",
   "execution_count": 47,
   "id": "diverse-detector",
   "metadata": {},
   "outputs": [],
   "source": [
    "# I introduced the most interesting feature analysis of my dataframe."
   ]
  },
  {
   "cell_type": "markdown",
   "id": "likely-sydney",
   "metadata": {},
   "source": [
    "# <span style=\"color:red\">Conclusion</span>\n",
    "\n",
    "### 1) There are equal number of males and females\n",
    "### 2) From 10000 users 4759 (47,59%) have 'Mr' title and 142(1.42%) have 'Mademoiselle' title \n",
    "### 3) The youngest user is 23 years old, and the oldest user is 77 years old\n",
    "### 4) All 10000 users are almost equally distributed amoung 17 countries\n",
    "### 5) Here we see that the states with the least users are Guyane, Var, Şanlıurfa and the only state with the most users is Midtjylland in Denmark"
   ]
  },
  {
   "cell_type": "markdown",
   "id": "fatty-birth",
   "metadata": {},
   "source": [
    "# <span style=\"color:red\">Thank you</span>"
   ]
  },
  {
   "cell_type": "code",
   "execution_count": null,
   "id": "exceptional-fitness",
   "metadata": {},
   "outputs": [],
   "source": []
  }
 ],
 "metadata": {
  "kernelspec": {
   "display_name": "Python 3",
   "language": "python",
   "name": "python3"
  },
  "language_info": {
   "codemirror_mode": {
    "name": "ipython",
    "version": 3
   },
   "file_extension": ".py",
   "mimetype": "text/x-python",
   "name": "python",
   "nbconvert_exporter": "python",
   "pygments_lexer": "ipython3",
   "version": "3.8.3"
  }
 },
 "nbformat": 4,
 "nbformat_minor": 5
}
